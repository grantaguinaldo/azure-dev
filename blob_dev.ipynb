{
 "cells": [
  {
   "cell_type": "code",
   "execution_count": 1,
   "metadata": {},
   "outputs": [],
   "source": [
    "import pandas as pd\n",
    "import os\n",
    "from azure.storage.blob import BlobServiceClient, BlobClient, ContainerClient"
   ]
  },
  {
   "cell_type": "code",
   "execution_count": 2,
   "metadata": {},
   "outputs": [],
   "source": [
    "#Home > enverastorage > Access keys\n",
    "conn_string = ''"
   ]
  },
  {
   "cell_type": "code",
   "execution_count": 3,
   "metadata": {},
   "outputs": [],
   "source": [
    "key = ''"
   ]
  },
  {
   "cell_type": "code",
   "execution_count": 4,
   "metadata": {},
   "outputs": [
    {
     "data": {
      "text/html": [
       "<div>\n",
       "<style scoped>\n",
       "    .dataframe tbody tr th:only-of-type {\n",
       "        vertical-align: middle;\n",
       "    }\n",
       "\n",
       "    .dataframe tbody tr th {\n",
       "        vertical-align: top;\n",
       "    }\n",
       "\n",
       "    .dataframe thead th {\n",
       "        text-align: right;\n",
       "    }\n",
       "</style>\n",
       "<table border=\"1\" class=\"dataframe\">\n",
       "  <thead>\n",
       "    <tr style=\"text-align: right;\">\n",
       "      <th></th>\n",
       "      <th>rule_url</th>\n",
       "      <th>last_updated</th>\n",
       "      <th>rule_name</th>\n",
       "      <th>air_district</th>\n",
       "    </tr>\n",
       "  </thead>\n",
       "  <tbody>\n",
       "    <tr>\n",
       "      <td>0</td>\n",
       "      <td>https://www.ourair.org/wp-content/uploads/rule...</td>\n",
       "      <td>Sun, 13 Dec 2015 23:55:56 GMT</td>\n",
       "      <td>rule903.pdf</td>\n",
       "      <td>sbapcd</td>\n",
       "    </tr>\n",
       "    <tr>\n",
       "      <td>1</td>\n",
       "      <td>https://www.ourair.org/wp-content/uploads/rule...</td>\n",
       "      <td>Sun, 13 Dec 2015 23:55:55 GMT</td>\n",
       "      <td>rule1001.pdf</td>\n",
       "      <td>sbapcd</td>\n",
       "    </tr>\n",
       "    <tr>\n",
       "      <td>2</td>\n",
       "      <td>https://www.ourair.org/wp-content/uploads/rule...</td>\n",
       "      <td>Sun, 13 Dec 2015 23:55:55 GMT</td>\n",
       "      <td>rule1101.pdf</td>\n",
       "      <td>sbapcd</td>\n",
       "    </tr>\n",
       "    <tr>\n",
       "      <td>3</td>\n",
       "      <td>https://www.ourair.org/wp-content/uploads/rule...</td>\n",
       "      <td>Sun, 13 Dec 2015 23:55:55 GMT</td>\n",
       "      <td>rule1102.pdf</td>\n",
       "      <td>sbapcd</td>\n",
       "    </tr>\n",
       "    <tr>\n",
       "      <td>4</td>\n",
       "      <td>https://www.ourair.org/wp-content/uploads/rule...</td>\n",
       "      <td>Sun, 13 Dec 2015 23:55:55 GMT</td>\n",
       "      <td>rule1103.pdf</td>\n",
       "      <td>sbapcd</td>\n",
       "    </tr>\n",
       "  </tbody>\n",
       "</table>\n",
       "</div>"
      ],
      "text/plain": [
       "                                            rule_url  \\\n",
       "0  https://www.ourair.org/wp-content/uploads/rule...   \n",
       "1  https://www.ourair.org/wp-content/uploads/rule...   \n",
       "2  https://www.ourair.org/wp-content/uploads/rule...   \n",
       "3  https://www.ourair.org/wp-content/uploads/rule...   \n",
       "4  https://www.ourair.org/wp-content/uploads/rule...   \n",
       "\n",
       "                    last_updated     rule_name air_district  \n",
       "0  Sun, 13 Dec 2015 23:55:56 GMT   rule903.pdf       sbapcd  \n",
       "1  Sun, 13 Dec 2015 23:55:55 GMT  rule1001.pdf       sbapcd  \n",
       "2  Sun, 13 Dec 2015 23:55:55 GMT  rule1101.pdf       sbapcd  \n",
       "3  Sun, 13 Dec 2015 23:55:55 GMT  rule1102.pdf       sbapcd  \n",
       "4  Sun, 13 Dec 2015 23:55:55 GMT  rule1103.pdf       sbapcd  "
      ]
     },
     "execution_count": 4,
     "metadata": {},
     "output_type": "execute_result"
    }
   ],
   "source": [
    "df = pd.read_csv('sbapcd_rule_metadata.csv')\n",
    "df.head()"
   ]
  },
  {
   "cell_type": "code",
   "execution_count": 5,
   "metadata": {},
   "outputs": [],
   "source": [
    "blob_service_client = BlobServiceClient.from_connection_string(conn_string)\n",
    "container_name = \"sbapcddev\"\n",
    "container_client = blob_service_client.create_container(container_name)"
   ]
  },
  {
   "cell_type": "code",
   "execution_count": 6,
   "metadata": {},
   "outputs": [
    {
     "name": "stdout",
     "output_type": "stream",
     "text": [
      "\n",
      "Uploading to Azure Storage as blob:\n",
      "\t rule903.pdf\n",
      "\n",
      "Uploading to Azure Storage as blob:\n",
      "\t rule1001.pdf\n",
      "\n",
      "Uploading to Azure Storage as blob:\n",
      "\t rule1101.pdf\n",
      "\n",
      "Uploading to Azure Storage as blob:\n",
      "\t rule1102.pdf\n",
      "\n",
      "Uploading to Azure Storage as blob:\n",
      "\t rule1103.pdf\n"
     ]
    },
    {
     "data": {
      "text/plain": [
       "[]"
      ]
     },
     "execution_count": 6,
     "metadata": {},
     "output_type": "execute_result"
    }
   ],
   "source": [
    "except_index = []\n",
    "for index, row in df.iterrows():\n",
    "    try:\n",
    "        local_file_name = row['rule_name']\n",
    "        upload_file_path = os.path.join(local_file_name)\n",
    "        container=container_name\n",
    "        blob_client = blob_service_client.get_blob_client(container=container, blob=local_file_name)\n",
    "\n",
    "        with open(upload_file_path, 'rb') as data:\n",
    "            blob_client.upload_blob(data, metadata={'rule_url': row['rule_url'],\n",
    "                                                'update_date': row['last_updated'],\n",
    "                                                'air_district': row['air_district']})\n",
    "            \n",
    "        print(\"\\nUploading to Azure Storage as blob:\\n\\t {}\".format(local_file_name))\n",
    "\n",
    "    except:\n",
    "        except_index.append(index)\n",
    "\n",
    "except_index"
   ]
  },
  {
   "cell_type": "code",
   "execution_count": null,
   "metadata": {},
   "outputs": [],
   "source": [
    "local_file_name = \"quickstart\" + \".txt\"\n",
    "upload_file_path = os.path.join(local_file_name)\n",
    "\n",
    "# Write text to the file\n",
    "file = open(upload_file_path, 'w')\n",
    "file.write(\"Hello, World!\")\n",
    "file.close()\n",
    "\n",
    "container=\"sbapcd_dev\"\n",
    "\n",
    "# Create a blob client using the local file name as the name for the blob\n",
    "blob_client = blob_service_client.get_blob_client(container=container, blob=local_file_name)\n",
    "\n",
    "print(\"\\nUploading to Azure Storage as blob:\\n\\t\" + local_file_name)\n",
    "\n",
    "# Upload the created file\n",
    "with open(upload_file_path, \"rb\") as data:\n",
    "    blob_client.upload_blob(data, metadata={'test_key_1': 'test_value_1', \n",
    "                                            'test_key_2': 'test_value_2',\n",
    "                                            'test_key_3': 'test_value_3'})"
   ]
  },
  {
   "cell_type": "code",
   "execution_count": null,
   "metadata": {},
   "outputs": [],
   "source": [
    "#https://docs.microsoft.com/en-us/python/api/azure-storage-blob/azure.storage.blob.blobclient?view=azure-python#upload-blob-data--blob-type--blobtype-blockblob---blockblob----length-none--metadata-none----kwargs-"
   ]
  },
  {
   "cell_type": "code",
   "execution_count": null,
   "metadata": {},
   "outputs": [],
   "source": [
    "#https://docs.microsoft.com/en-us/azure/storage/blobs/storage-quickstart-blobs-python"
   ]
  }
 ],
 "metadata": {
  "kernelspec": {
   "display_name": "Python 3",
   "language": "python",
   "name": "python3"
  },
  "language_info": {
   "codemirror_mode": {
    "name": "ipython",
    "version": 3
   },
   "file_extension": ".py",
   "mimetype": "text/x-python",
   "name": "python",
   "nbconvert_exporter": "python",
   "pygments_lexer": "ipython3",
   "version": "3.7.4"
  }
 },
 "nbformat": 4,
 "nbformat_minor": 2
}
